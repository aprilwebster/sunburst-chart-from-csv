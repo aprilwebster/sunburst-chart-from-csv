{
 "cells": [
  {
   "cell_type": "code",
   "execution_count": null,
   "metadata": {
    "collapsed": false
   },
   "outputs": [],
   "source": [
    "# Provided a dict of trait name (from PI service) and respective percentage value for trait\n",
    "# populate the PI profile json file template with the percentage values\n",
    "def map_profile_to_json(profile_percentage_dict, output_filename):\n",
    "    \n",
    "    mapping_filename = 'v3_labels.txt'\n",
    "    template_filename = 'template.json'\n",
    "    \n",
    "    # Create mapping dict to convert labels output by PI Service to placeholder labels used in the json template \n",
    "    # (e.g., Big_5_Openness to OPENNESS_PERC). \n",
    "    mapping_dict = {}\n",
    "    with open(mapping_filename,'r') as mappingfile:\n",
    "        lines = mappingfile.readlines()\n",
    "        for line in lines:\n",
    "            k,v = line.split(',')\n",
    "            mapping_dict[k.rstrip()] = v.rstrip()\n",
    "    print(mapping_dict)\n",
    "    \n",
    "    with open(template_filename,'r') as templatefile:\n",
    "        template_str = templatefile.read()\n",
    "        traits = profile_percentage_dict.keys()\n",
    "        \n",
    "        outfile = open(output_filename,'w')\n",
    "        \n",
    "        for t in traits:\n",
    "            perc = profile_percentage_dict[t]\n",
    "            trait_placeholder_str = mapping_dict[t]\n",
    "            template_str = template_str.replace(trait_placeholder_str,str(perc))\n",
    "        \n",
    "        outfile.write(template_str)\n",
    "        outfile.close()\n"
   ]
  },
  {
   "cell_type": "code",
   "execution_count": null,
   "metadata": {
    "collapsed": false
   },
   "outputs": [],
   "source": [
    "import csv\n",
    "import pandas as pd\n",
    "\n",
    "# TODO: User must change input.csv to the name of their csv file\n",
    "# Sample CSV file is provided in input.csv - column containing the personality trait labels must be named 'Trait'\n",
    "csv_filename = \"input.csv\"\n",
    "\n",
    "# Read csv into a dataframe - first column has the trait labels, each subsequent column provides\n",
    "# the percentage values for the PI traits for a PI profile\n",
    "df = pd.read_csv(csv_filename, index_col=[\"Trait\"], header=0)\n",
    "\n",
    "# Convert the dataframe to a dict - the keys will be the column headers, and the values themselves dicts that \n",
    "# have the trait labels as keys and trait percentages as values\n",
    "input_profiles = df.to_dict()\n",
    "profile_list = input_profiles.keys()\n",
    "\n",
    "# For each profile dict (trait_label, trait_perc), generate a populated PI json file with filename profile_name.json\n",
    "for p in profile_list:\n",
    "    output_filename = p + \".json\"\n",
    "    profile_dict = input_profiles[p]\n",
    "    map_profile_to_json(profile_dict, output_filename)\n",
    "\n",
    "    \n"
   ]
  }
 ],
 "metadata": {
  "kernelspec": {
   "display_name": "Python 3",
   "language": "python",
   "name": "python3"
  },
  "language_info": {
   "codemirror_mode": {
    "name": "ipython",
    "version": 3
   },
   "file_extension": ".py",
   "mimetype": "text/x-python",
   "name": "python",
   "nbconvert_exporter": "python",
   "pygments_lexer": "ipython3",
   "version": "3.5.2"
  }
 },
 "nbformat": 4,
 "nbformat_minor": 0
}
